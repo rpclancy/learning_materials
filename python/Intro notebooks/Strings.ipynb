{
 "cells": [
  {
   "cell_type": "code",
   "execution_count": null,
   "metadata": {},
   "outputs": [],
   "source": [
    "\"\"\"\n",
    "Describes how to use strings in python\n",
    "\n",
    "\n",
    "\n",
    "Corey Schafer video\n",
    "https://www.youtube.com/watch?v=k9TUPpGqYTo&list=PL-osiE80TeTt2d9bfVyTiXJA-UTHn6WwU&index=2\n",
    "\"\"\""
   ]
  },
  {
   "cell_type": "code",
   "execution_count": 7,
   "metadata": {},
   "outputs": [
    {
     "name": "stdout",
     "output_type": "stream",
     "text": [
      "Hello, World\n",
      "Hello, World\n",
      "Hello, World.\n",
      "Nice to meet you.\n"
     ]
    }
   ],
   "source": [
    "# Make a string using double or single quotes or triple quotes\n",
    "message = \"Hello, World\"\n",
    "print(message)\n",
    "\n",
    "message = 'Hello, World'\n",
    "print(message)\n",
    "\n",
    "message = \"\"\"Hello, World.\n",
    "Nice to meet you.\"\"\"\n",
    "print(message)"
   ]
  },
  {
   "cell_type": "code",
   "execution_count": 10,
   "metadata": {},
   "outputs": [
    {
     "name": "stdout",
     "output_type": "stream",
     "text": [
      "12\n"
     ]
    }
   ],
   "source": [
    "# Use len(string) to get length of a string\n",
    "message = \"Hello, World\"\n",
    "print(len(message))"
   ]
  },
  {
   "cell_type": "code",
   "execution_count": 16,
   "metadata": {},
   "outputs": [
    {
     "name": "stdout",
     "output_type": "stream",
     "text": [
      "H\n",
      "d\n",
      "Hello\n",
      "Hello\n",
      "World\n"
     ]
    }
   ],
   "source": [
    "# Slicing: Use indexing to select parts of string\n",
    "message = \"Hello, World\"\n",
    "print(message[0]) # first index (indices start at 0)\n",
    "print(message[-1]) # last index\n",
    "print(message[0:5]) # range of indices (first included, last not)\n",
    "print(message[:5]) # can just use colon to go from start\n",
    "print(message[7:]) # can just use colon to go to end"
   ]
  },
  {
   "cell_type": "code",
   "execution_count": 21,
   "metadata": {},
   "outputs": [
    {
     "name": "stdout",
     "output_type": "stream",
     "text": [
      "HELLO, WORLD\n",
      "hello, world\n"
     ]
    }
   ],
   "source": [
    "# Make strings upper or lower case\n",
    "message = \"Hello, World\"\n",
    "print(message.upper()) # n.b.-> . indicates a 'method' is being used\n",
    "print(message.lower())"
   ]
  },
  {
   "cell_type": "code",
   "execution_count": 25,
   "metadata": {},
   "outputs": [
    {
     "name": "stdout",
     "output_type": "stream",
     "text": [
      "1\n",
      "3\n"
     ]
    }
   ],
   "source": [
    "# Count number of times an expression appears in string\n",
    "message = \"Hello, World\"\n",
    "print(message.count(\"Hello\"))\n",
    "print(message.count(\"l\"))"
   ]
  },
  {
   "cell_type": "code",
   "execution_count": 28,
   "metadata": {},
   "outputs": [
    {
     "name": "stdout",
     "output_type": "stream",
     "text": [
      "0\n",
      "7\n",
      "-1\n"
     ]
    }
   ],
   "source": [
    "# Find location of an expression in a string\n",
    "message = \"Hello, World\"\n",
    "print(message.find(\"Hello\"))\n",
    "print(message.find(\"World\"))\n",
    "print(message.find(\"Universe\")) # gives -1 if expression is not found"
   ]
  },
  {
   "cell_type": "code",
   "execution_count": 31,
   "metadata": {},
   "outputs": [
    {
     "name": "stdout",
     "output_type": "stream",
     "text": [
      "Hello, World\n",
      "Hello, Universe\n"
     ]
    }
   ],
   "source": [
    "# Replace expression in string with another expression\n",
    "message = \"Hello, World\"\n",
    "message.replace(\"World\", \"Universe\") # 1st 'argument' = original expression, 2nd = new expression\n",
    "print(message)\n",
    "\n",
    "message = message.replace(\"World\", \"Universe\") # Needs to be called like this to save change\n",
    "print(message)"
   ]
  },
  {
   "cell_type": "code",
   "execution_count": 42,
   "metadata": {},
   "outputs": [
    {
     "name": "stdout",
     "output_type": "stream",
     "text": [
      "Hello, Torie. Welcome!\n",
      "Hello, Torie. Welcome!\n",
      "Hello, Torie. Welcome!\n",
      "Hello, TORIE. Welcome!\n"
     ]
    }
   ],
   "source": [
    "# Concatenating/combining strings\n",
    "greeting = \"Hello\"\n",
    "name = \"Torie\"\n",
    "\n",
    "# Use + sign\n",
    "message = greeting + \", \" + name + \". Welcome!\"\n",
    "print(message)\n",
    "\n",
    "# Use formatted string\n",
    "message = '{}, {}. Welcome!'.format(greeting, name)\n",
    "print(message)\n",
    "\n",
    "# Use f-strings\n",
    "message = f'{greeting}, {name}. Welcome!'\n",
    "print(message)\n",
    "message = f'{greeting}, {name.upper()}. Welcome!' # can include code in placeholders\n",
    "print(message)"
   ]
  },
  {
   "cell_type": "code",
   "execution_count": null,
   "metadata": {},
   "outputs": [],
   "source": []
  }
 ],
 "metadata": {
  "kernelspec": {
   "display_name": "Python 3",
   "language": "python",
   "name": "python3"
  },
  "language_info": {
   "codemirror_mode": {
    "name": "ipython",
    "version": 3
   },
   "file_extension": ".py",
   "mimetype": "text/x-python",
   "name": "python",
   "nbconvert_exporter": "python",
   "pygments_lexer": "ipython3",
   "version": "3.7.3"
  }
 },
 "nbformat": 4,
 "nbformat_minor": 2
}
