{
 "cells": [
  {
   "cell_type": "code",
   "execution_count": null,
   "metadata": {},
   "outputs": [],
   "source": [
    "\"\"\"\n",
    "Describes how to use conditionals and booleans in python\n",
    "\n",
    "\n",
    "\n",
    "Corey Schafer video\n",
    "https://www.youtube.com/watch?v=DZwmZ8Usvnk&list=PL-osiE80TeTt2d9bfVyTiXJA-UTHn6WwU&index=6\n",
    "\"\"\""
   ]
  },
  {
   "cell_type": "code",
   "execution_count": 13,
   "metadata": {},
   "outputs": [],
   "source": [
    "# Comparisons:\n",
    "# Equal:            ==\n",
    "# Not Equal:        !=\n",
    "# Greater Than:     >\n",
    "# Less Than:        <\n",
    "# Greater or Equal: >=\n",
    "# Less or Equal:    <=\n",
    "# Object Identity:  is"
   ]
  },
  {
   "cell_type": "code",
   "execution_count": 14,
   "metadata": {},
   "outputs": [
    {
     "name": "stdout",
     "output_type": "stream",
     "text": [
      "Conditional was True\n",
      "Language is Python\n"
     ]
    }
   ],
   "source": [
    "# Using True and False in if statements\n",
    "if True:\n",
    "    print('Conditional was True')\n",
    "    \n",
    "if False:\n",
    "    print('Conditional was False') \n",
    "\n",
    "# Using ==\n",
    "language = 'Python'\n",
    "if language == 'Python':\n",
    "    print('Language is Python')    "
   ]
  },
  {
   "cell_type": "code",
   "execution_count": 15,
   "metadata": {},
   "outputs": [
    {
     "name": "stdout",
     "output_type": "stream",
     "text": [
      "Language is not Python\n"
     ]
    }
   ],
   "source": [
    "# Using else statements\n",
    "language = 'Java'\n",
    "if language == 'Python':\n",
    "    print('Language is Python')  \n",
    "else:\n",
    "    print('Language is not Python')"
   ]
  },
  {
   "cell_type": "code",
   "execution_count": 16,
   "metadata": {},
   "outputs": [
    {
     "name": "stdout",
     "output_type": "stream",
     "text": [
      "Language is Java\n"
     ]
    }
   ],
   "source": [
    "# Using elif statements\n",
    "language = 'Java'\n",
    "if language == 'Python':\n",
    "    print('Language is Python')  \n",
    "elif language == 'Java':\n",
    "    print('Language is Java')\n",
    "elif language == 'JavaScript':\n",
    "    print('Language is JavaScript')\n",
    "else:\n",
    "    print('Language is not Python, Java or JavaScript')"
   ]
  },
  {
   "cell_type": "code",
   "execution_count": 22,
   "metadata": {},
   "outputs": [
    {
     "name": "stdout",
     "output_type": "stream",
     "text": [
      "Bad creds\n",
      "Admin page\n",
      "Please log in\n"
     ]
    }
   ],
   "source": [
    "# Using 'and', 'or' and 'not'\n",
    "user = 'Admin'\n",
    "logged_in = False\n",
    "\n",
    "# For 'and' both need to be true\n",
    "if user == 'Admin' and logged_in:\n",
    "    print('Admin page')\n",
    "else:\n",
    "    print('Bad creds')\n",
    "    \n",
    "# For 'or' only one must be true\n",
    "if user == 'Admin' or logged_in:\n",
    "    print('Admin page')\n",
    "else:\n",
    "    print('Bad creds')\n",
    "    \n",
    "# For 'not' needs to be false\n",
    "if not logged_in:\n",
    "    print('Please log in')\n",
    "else:\n",
    "    print('Welcome')"
   ]
  },
  {
   "cell_type": "code",
   "execution_count": 28,
   "metadata": {},
   "outputs": [
    {
     "name": "stdout",
     "output_type": "stream",
     "text": [
      "True\n",
      "False\n",
      "4521697672 4521699976\n",
      "True\n",
      "4521697672 4521697672\n"
     ]
    }
   ],
   "source": [
    "# Difference between == and the object identity ('is')\n",
    "a = [1,2,3]\n",
    "b = [1,2,3]\n",
    "\n",
    "# == tests if two values are the same\n",
    "print(a == b)\n",
    "\n",
    "# is tests if two objects have the same id (use the same memory)\n",
    "print(a is b)\n",
    "print(id(a), id(b))\n",
    "\n",
    "b = a\n",
    "print(a is b)\n",
    "print(id(a), id(b))"
   ]
  },
  {
   "cell_type": "code",
   "execution_count": 33,
   "metadata": {},
   "outputs": [
    {
     "name": "stdout",
     "output_type": "stream",
     "text": [
      "This evaluates as True\n"
     ]
    }
   ],
   "source": [
    "# False Values:\n",
    "    # False\n",
    "    # None\n",
    "    # Zero of any numeric type\n",
    "    # Any empty sequence. For example, '', (), [].\n",
    "    # Any empty mapping. For example, {}.\n",
    "\n",
    "# Everything else evaluates to True, e.g.:\n",
    "if 'False':\n",
    "    print('This evaluates as True')"
   ]
  },
  {
   "cell_type": "code",
   "execution_count": 61,
   "metadata": {},
   "outputs": [
    {
     "name": "stdout",
     "output_type": "stream",
     "text": [
      "False\n",
      "True\n"
     ]
    }
   ],
   "source": [
    "# Combining booleans using brackets\n",
    "a = 1\n",
    "b = 2\n",
    "c = 3\n",
    "\n",
    "if a==0 or b==2 and c==4:\n",
    "    print('True')\n",
    "else:\n",
    "    print('False')\n",
    "\n",
    "if a==0 or (b==2 and c==3):\n",
    "    print('True')\n",
    "else:\n",
    "    print('False')"
   ]
  },
  {
   "cell_type": "code",
   "execution_count": null,
   "metadata": {},
   "outputs": [],
   "source": []
  }
 ],
 "metadata": {
  "kernelspec": {
   "display_name": "Python 3",
   "language": "python",
   "name": "python3"
  },
  "language_info": {
   "codemirror_mode": {
    "name": "ipython",
    "version": 3
   },
   "file_extension": ".py",
   "mimetype": "text/x-python",
   "name": "python",
   "nbconvert_exporter": "python",
   "pygments_lexer": "ipython3",
   "version": "3.7.3"
  }
 },
 "nbformat": 4,
 "nbformat_minor": 2
}
