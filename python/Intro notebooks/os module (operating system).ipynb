{
 "cells": [
  {
   "cell_type": "code",
   "execution_count": null,
   "metadata": {},
   "outputs": [],
   "source": [
    "\"\"\"\n",
    "Describes how to use the os module to work with the operating system in python\n",
    "\n",
    "\n",
    "\n",
    "Corey Schafer video\n",
    "https://www.youtube.com/watch?v=tJxcKyFMTGo&list=PL-osiE80TeTskrapNbzXhwoFUiLCjGgY7&index=10\n",
    "\"\"\""
   ]
  },
  {
   "cell_type": "code",
   "execution_count": 1,
   "metadata": {},
   "outputs": [],
   "source": [
    "# Import os\n",
    "import os"
   ]
  },
  {
   "cell_type": "code",
   "execution_count": 5,
   "metadata": {},
   "outputs": [],
   "source": [
    "# Attributes and methods in the os module\n",
    "#print(dir(os))"
   ]
  },
  {
   "cell_type": "code",
   "execution_count": 8,
   "metadata": {},
   "outputs": [
    {
     "name": "stdout",
     "output_type": "stream",
     "text": [
      "/Users/robin/Desktop/learn_python\n"
     ]
    }
   ],
   "source": [
    "# Show current directory with os.getcwd\n",
    "print(os.getcwd())"
   ]
  },
  {
   "cell_type": "code",
   "execution_count": 29,
   "metadata": {},
   "outputs": [
    {
     "name": "stdout",
     "output_type": "stream",
     "text": [
      "/Users/robin/Desktop/learn_python\n"
     ]
    }
   ],
   "source": [
    "# Navigate to a new directory with os.chdir\n",
    "os.chdir('/Users/robin/Desktop/learn_python')\n",
    "print(os.getcwd())"
   ]
  },
  {
   "cell_type": "code",
   "execution_count": 30,
   "metadata": {},
   "outputs": [
    {
     "name": "stdout",
     "output_type": "stream",
     "text": [
      "['For and while loops.ipynb', 'Integers and floats.ipynb', 'Conditionals and booleans (if, else, elif).ipynb', 'Sets.ipynb', 'beginners_python_cheat_sheet_pcc_all.pdf', 'os module (operating system).ipynb', 'Lists.ipynb', '__pycache__', 'Functions.ipynb', 'Help.ipynb', 'Dictionaries.ipynb', 'Misc Jupyter notebooks.ipynb', '.ipynb_checkpoints', 'Strings.ipynb', 'python_crash_course.pdf', 'Standard library examples.ipynb', 'Tuples and mutability.ipynb', 'Importing modules.ipynb']\n"
     ]
    }
   ],
   "source": [
    "# Show files in a directory using os.listdir\n",
    "print(os.listdir('/Users/robin/Desktop/learn_python')) #uses cwd if no input given"
   ]
  },
  {
   "cell_type": "code",
   "execution_count": 31,
   "metadata": {},
   "outputs": [],
   "source": [
    "# Create a new directory using os.mkdir or os.mkdirs\n",
    "os.mkdir('foo') #only can make one level of directory\n",
    "os.makedirs('foo2/bar') #automatically creates tree of directories\n",
    "\n",
    "# Remove directories using os.rmdir or os.removedirs\n",
    "os.rmdir('foo') #only removes one directory level\n",
    "os.removedirs('foo2/bar') #automatically removes tree of directories\n",
    "\n",
    "#Use os.remove('filename') to delete a file"
   ]
  },
  {
   "cell_type": "code",
   "execution_count": 32,
   "metadata": {},
   "outputs": [],
   "source": [
    "# Move/rename a file or folder using os.rename\n",
    "os.mkdir('original_name')\n",
    "os.rename('original_name','new_name')\n",
    "os.rmdir('new_name')"
   ]
  },
  {
   "cell_type": "code",
   "execution_count": 42,
   "metadata": {},
   "outputs": [
    {
     "name": "stdout",
     "output_type": "stream",
     "text": [
      "os.stat_result(st_mode=33188, st_ino=8609565230, st_dev=16777220, st_nlink=1, st_uid=501, st_gid=20, st_size=4868, st_atime=1568750220, st_mtime=1568750219, st_ctime=1568750219)\n",
      "\n",
      "4868\n",
      "\n",
      "1568750219.937736\n",
      "2019-09-17 12:56:59.937736\n"
     ]
    }
   ],
   "source": [
    "# Get file information using os.stat\n",
    "print(os.stat('os module (operating system).ipynb'))\n",
    "print()\n",
    "\n",
    "# Get file size in bytes\n",
    "print(os.stat('os module (operating system).ipynb').st_size)\n",
    "print()\n",
    "\n",
    "# Get last modification time\n",
    "print(os.stat('os module (operating system).ipynb').st_mtime) #gives timestamp\n",
    "from datetime import datetime\n",
    "mod_time = os.stat('os module (operating system).ipynb').st_mtime #gives formatted time\n",
    "print(datetime.fromtimestamp(mod_time)) "
   ]
  },
  {
   "cell_type": "code",
   "execution_count": 54,
   "metadata": {},
   "outputs": [
    {
     "name": "stdout",
     "output_type": "stream",
     "text": [
      "Current Path: /Users/robin/Desktop/learn_python\n",
      "Directories: ['__pycache__', '.ipynb_checkpoints']\n",
      "Files: ['For and while loops.ipynb', 'Integers and floats.ipynb', 'Conditionals and booleans (if, else, elif).ipynb', 'Sets.ipynb', 'beginners_python_cheat_sheet_pcc_all.pdf', 'os module (operating system).ipynb', 'Lists.ipynb', 'Functions.ipynb', 'Help.ipynb', 'Dictionaries.ipynb', 'Misc Jupyter notebooks.ipynb', 'Strings.ipynb', 'python_crash_course.pdf', 'Standard library examples.ipynb', 'Tuples and mutability.ipynb', 'Importing modules.ipynb']\n",
      "\n",
      "Current Path: /Users/robin/Desktop/learn_python/__pycache__\n",
      "Directories: []\n",
      "Files: ['hello_world.cpython-37.pyc']\n",
      "\n",
      "Current Path: /Users/robin/Desktop/learn_python/.ipynb_checkpoints\n",
      "Directories: []\n",
      "Files: ['Functions-checkpoint.ipynb', 'Tuples and mutability-checkpoint.ipynb', 'Lists-checkpoint.ipynb', 'os module (operating system)-checkpoint.ipynb', 'Sets-checkpoint.ipynb', 'For and while loops-checkpoint.ipynb', 'Standard library examples-checkpoint.ipynb', 'Misc Jupyter notebooks-checkpoint.ipynb', 'Integers and floats-checkpoint.ipynb', 'Strings-checkpoint.ipynb', 'Help-checkpoint.ipynb', 'Importing modules-checkpoint.ipynb', 'Dictionaries-checkpoint.ipynb', 'Conditionals and booleans (if, else, elif)-checkpoint.ipynb']\n",
      "\n"
     ]
    }
   ],
   "source": [
    "# Get directory tree and all files using os.walk\n",
    "# gives tuple of directory path, directories within path, files within path\n",
    "for dirpath, dirnames, filenames in os.walk('/Users/robin/Desktop/learn_python'):\n",
    "    print('Current Path:', dirpath)\n",
    "    print('Directories:', dirnames)\n",
    "    print('Files:', filenames)\n",
    "    print()"
   ]
  },
  {
   "cell_type": "code",
   "execution_count": 57,
   "metadata": {},
   "outputs": [
    {
     "name": "stdout",
     "output_type": "stream",
     "text": [
      "environ({'TERM_PROGRAM': 'Apple_Terminal', 'SHELL': '/bin/bash', 'TERM': 'xterm-color', 'TMPDIR': '/var/folders/0w/_m43ns4s43lgs87nc2glwngm0000gn/T/', 'CONDA_SHLVL': '1', 'Apple_PubSub_Socket_Render': '/private/tmp/com.apple.launchd.O02H4AjY24/Render', 'CONDA_PROMPT_MODIFIER': '(base) ', 'TERM_PROGRAM_VERSION': '421.1', 'TERM_SESSION_ID': '4FD853D4-AE10-4580-B91D-D1775BF40339', 'USER': 'robin', 'CONDA_EXE': '/Users/robin/anaconda3/bin/conda', 'SSH_AUTH_SOCK': '/private/tmp/com.apple.launchd.M1A3zVwOWS/Listeners', '_CE_CONDA': '', 'PATH': '/Users/robin/anaconda3/bin:/Users/robin/anaconda3/condabin:/anaconda/bin:/usr/local/bin:/usr/bin:/bin:/usr/sbin:/sbin:/opt/X11/bin', 'CONDA_PREFIX': '/Users/robin/anaconda3', 'PWD': '/Users/robin', 'LANG': 'en_US.UTF-8', 'XPC_FLAGS': '0x0', '_CE_M': '', 'XPC_SERVICE_NAME': '0', 'SHLVL': '1', 'HOME': '/Users/robin', 'CONDA_PYTHON_EXE': '/Users/robin/anaconda3/bin/python', 'LOGNAME': 'robin', 'CONDA_DEFAULT_ENV': 'base', 'DISPLAY': '/private/tmp/com.apple.launchd.47CJpqzCTL/org.macosforge.xquartz:0', 'SECURITYSESSIONID': '186a7', '_': '/Users/robin/anaconda3/bin/jupyter', 'KERNEL_LAUNCH_TIMEOUT': '40', 'JPY_PARENT_PID': '4449', 'CLICOLOR': '1', 'PAGER': 'cat', 'GIT_PAGER': 'cat', 'MPLBACKEND': 'module://ipykernel.pylab.backend_inline'})\n",
      "\n",
      "/Users/robin\n"
     ]
    }
   ],
   "source": [
    "# Access environment variables using os.environ\n",
    "print(os.environ)\n",
    "print()\n",
    "\n",
    "# Access specific environment variables (e.g. HOME)\n",
    "print(os.environ.get('HOME'))"
   ]
  },
  {
   "cell_type": "code",
   "execution_count": 79,
   "metadata": {},
   "outputs": [
    {
     "name": "stdout",
     "output_type": "stream",
     "text": [
      "/Users/robinfile_name\n",
      "/Users/robin/file_name\n",
      "\n",
      "filename.txt\n",
      "/Users/robin/Desktop/dirname\n",
      "('/Users/robin/Desktop/dirname', 'filename.txt')\n",
      "\n",
      "False\n",
      "\n",
      "True\n",
      "False\n",
      "\n",
      "('/Users/robin/Desktop/dirname/filename', '.txt')\n",
      "\n",
      "['__all__', '__builtins__', '__cached__', '__doc__', '__file__', '__loader__', '__name__', '__package__', '__spec__', '_get_sep', '_joinrealpath', '_varprog', '_varprogb', 'abspath', 'altsep', 'basename', 'commonpath', 'commonprefix', 'curdir', 'defpath', 'devnull', 'dirname', 'exists', 'expanduser', 'expandvars', 'extsep', 'genericpath', 'getatime', 'getctime', 'getmtime', 'getsize', 'isabs', 'isdir', 'isfile', 'islink', 'ismount', 'join', 'lexists', 'normcase', 'normpath', 'os', 'pardir', 'pathsep', 'realpath', 'relpath', 'samefile', 'sameopenfile', 'samestat', 'sep', 'split', 'splitdrive', 'splitext', 'stat', 'supports_unicode_filenames', 'sys']\n"
     ]
    }
   ],
   "source": [
    "# Working with file paths using os.path\n",
    "\n",
    "# Creating a new file name using os.path.join\n",
    "print(os.environ.get('HOME') + 'file_name') #often makes mistakes with /\n",
    "print(os.path.join(os.environ.get('HOME'), 'file_name')) #much safer\n",
    "print()\n",
    "\n",
    "# Get parts of file name using os.path.basename, os.path.dirname and os.path.split\n",
    "print(os.path.basename('/Users/robin/Desktop/dirname/filename.txt'))\n",
    "print(os.path.dirname('/Users/robin/Desktop/dirname/filename.txt'))\n",
    "print(os.path.split('/Users/robin/Desktop/dirname/filename.txt'))\n",
    "print()\n",
    "\n",
    "# Check if a file exists using os.path.exists\n",
    "print(os.path.exists('/Users/robin/Desktop/dirname/filename.txt'))\n",
    "print()\n",
    "\n",
    "# Check if a file is directory or file using os.path.isdir and os.path.isfile\n",
    "print(os.path.isdir('/Users/robin/Desktop'))\n",
    "print(os.path.isfile('/Users/robin/Desktop'))\n",
    "print()\n",
    "\n",
    "# Separate filename and extension using os.path.splitext\n",
    "print(os.path.splitext('/Users/robin/Desktop/dirname/filename.txt'))\n",
    "print()\n",
    "\n",
    "# Other os.path functionality\n",
    "print(dir(os.path))"
   ]
  }
 ],
 "metadata": {
  "kernelspec": {
   "display_name": "Python 3",
   "language": "python",
   "name": "python3"
  },
  "language_info": {
   "codemirror_mode": {
    "name": "ipython",
    "version": 3
   },
   "file_extension": ".py",
   "mimetype": "text/x-python",
   "name": "python",
   "nbconvert_exporter": "python",
   "pygments_lexer": "ipython3",
   "version": "3.7.3"
  }
 },
 "nbformat": 4,
 "nbformat_minor": 2
}
