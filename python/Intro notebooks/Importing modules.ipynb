{
 "cells": [
  {
   "cell_type": "code",
   "execution_count": null,
   "metadata": {},
   "outputs": [],
   "source": [
    "\"\"\"\n",
    "Describes how to import modules in python\n",
    "\n",
    "\n",
    "\n",
    "Corey Schafer video\n",
    "https://www.youtube.com/watch?v=CqvZ3vGoGs0&list=PL-osiE80TeTt2d9bfVyTiXJA-UTHn6WwU&index=9\n",
    "\"\"\""
   ]
  },
  {
   "cell_type": "code",
   "execution_count": null,
   "metadata": {},
   "outputs": [],
   "source": [
    "# write and save this as my_module.py\n",
    "print('Imported my_module...')\n",
    "\n",
    "test = 'Test String'\n",
    "\n",
    "\n",
    "def find_index(to_search, target):\n",
    "    '''Find the index of a value in a sequence'''\n",
    "    for i, value in enumerate(to_search):\n",
    "        if value == target:\n",
    "            return i\n",
    "\n",
    "    return -1"
   ]
  },
  {
   "cell_type": "code",
   "execution_count": null,
   "metadata": {},
   "outputs": [],
   "source": [
    "# then import and run\n",
    "\n",
    "import my_module\n",
    "# or\n",
    "import my_module as mm\n",
    "# or\n",
    "from my_module import find_index, test\n",
    "# or\n",
    "from my_module import find_index as fi, test\n",
    "# or this gets everything, but is a bit unclear \n",
    "from my_module import *\n",
    "\n",
    "courses = ['History', 'Math', 'Physics', 'CompSci']\n",
    "\n",
    "index = mm.find_index(courses, 'Math')\n",
    "#or\n",
    "index = find_index(courses, 'Math')"
   ]
  },
  {
   "cell_type": "code",
   "execution_count": 2,
   "metadata": {},
   "outputs": [
    {
     "name": "stdout",
     "output_type": "stream",
     "text": [
      "['/Users/robin/Desktop/learn_python', '/Users/robin/anaconda3/lib/python37.zip', '/Users/robin/anaconda3/lib/python3.7', '/Users/robin/anaconda3/lib/python3.7/lib-dynload', '', '/Users/robin/anaconda3/lib/python3.7/site-packages', '/Users/robin/anaconda3/lib/python3.7/site-packages/aeosa', '/Users/robin/anaconda3/lib/python3.7/site-packages/IPython/extensions', '/Users/robin/.ipython']\n"
     ]
    }
   ],
   "source": [
    "# List directories where python looks for modules using sys.path\n",
    "# (looks in this order)\n",
    "import sys\n",
    "print(sys.path)"
   ]
  },
  {
   "cell_type": "code",
   "execution_count": null,
   "metadata": {},
   "outputs": [],
   "source": [
    "# Add directories to sys.path list\n",
    "import sys\n",
    "sys.path.append('New_Directory')"
   ]
  },
  {
   "cell_type": "code",
   "execution_count": null,
   "metadata": {},
   "outputs": [],
   "source": [
    "# Set environment variables using bash_profile\n",
    "nano ~/.bash_profile #open this\n",
    "export PYTHONPATH=\"/New_Directory\" #add this line"
   ]
  },
  {
   "cell_type": "code",
   "execution_count": null,
   "metadata": {},
   "outputs": [],
   "source": []
  }
 ],
 "metadata": {
  "kernelspec": {
   "display_name": "Python 3",
   "language": "python",
   "name": "python3"
  },
  "language_info": {
   "codemirror_mode": {
    "name": "ipython",
    "version": 3
   },
   "file_extension": ".py",
   "mimetype": "text/x-python",
   "name": "python",
   "nbconvert_exporter": "python",
   "pygments_lexer": "ipython3",
   "version": "3.7.3"
  }
 },
 "nbformat": 4,
 "nbformat_minor": 2
}
