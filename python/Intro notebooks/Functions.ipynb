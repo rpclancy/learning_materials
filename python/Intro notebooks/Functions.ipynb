{
 "cells": [
  {
   "cell_type": "code",
   "execution_count": null,
   "metadata": {},
   "outputs": [],
   "source": [
    "\"\"\"\n",
    "Describes how to use functions in python\n",
    "\n",
    "\n",
    "\n",
    "Corey Schafer video\n",
    "https://www.youtube.com/watch?v=6iF8Xb7Z3wQ&list=PL-osiE80TeTt2d9bfVyTiXJA-UTHn6WwU&index=8\n",
    "\"\"\""
   ]
  },
  {
   "cell_type": "code",
   "execution_count": null,
   "metadata": {},
   "outputs": [],
   "source": [
    "# DRY\n",
    "# DON'T REPEAT YOURSELF\n",
    "# Use variables and functions to stop typing everything multiple times"
   ]
  },
  {
   "cell_type": "code",
   "execution_count": 18,
   "metadata": {},
   "outputs": [],
   "source": [
    "# Define blank function using pass\n",
    "def hello_func():\n",
    "    \"\"\"This is a docstring, describes what function does\"\"\"\n",
    "    pass"
   ]
  },
  {
   "cell_type": "code",
   "execution_count": 19,
   "metadata": {},
   "outputs": [
    {
     "name": "stdout",
     "output_type": "stream",
     "text": [
      "Hello Function!\n"
     ]
    },
    {
     "data": {
      "text/plain": [
       "<function __main__.hello_func()>"
      ]
     },
     "execution_count": 19,
     "metadata": {},
     "output_type": "execute_result"
    }
   ],
   "source": [
    "# Running a function\n",
    "def hello_func():\n",
    "    print('Hello Function!')\n",
    "\n",
    "# Running a function\n",
    "hello_func()\n",
    "# Parentheses needed otherwise is equal to the function\n",
    "hello_func"
   ]
  },
  {
   "cell_type": "code",
   "execution_count": 24,
   "metadata": {},
   "outputs": [
    {
     "name": "stdout",
     "output_type": "stream",
     "text": [
      "Hello Function!\n"
     ]
    }
   ],
   "source": [
    "# Return values (output that function equals once evaluated)\n",
    "def hello_func():\n",
    "    return 'Hello Function!'\n",
    "\n",
    "print(hello_func())"
   ]
  },
  {
   "cell_type": "code",
   "execution_count": 25,
   "metadata": {},
   "outputs": [
    {
     "name": "stdout",
     "output_type": "stream",
     "text": [
      "HELLO FUNCTION!\n"
     ]
    }
   ],
   "source": [
    "# Chaining functions\n",
    "def hello_func():\n",
    "    return 'Hello Function!'\n",
    "\n",
    "print(hello_func().upper())"
   ]
  },
  {
   "cell_type": "code",
   "execution_count": 28,
   "metadata": {},
   "outputs": [
    {
     "name": "stdout",
     "output_type": "stream",
     "text": [
      "Hi Function.\n"
     ]
    }
   ],
   "source": [
    "# Passing inputs to functions\n",
    "# N.B. Inputs are only local to function\n",
    "def hello_func(greeting): \n",
    "    return '{} Function.'.format(greeting)\n",
    "\n",
    "print(hello_func('Hi'))"
   ]
  },
  {
   "cell_type": "code",
   "execution_count": 31,
   "metadata": {},
   "outputs": [
    {
     "name": "stdout",
     "output_type": "stream",
     "text": [
      "Hi, You.\n",
      "Hi, Torie.\n"
     ]
    }
   ],
   "source": [
    "# Default input values\n",
    "# Required positional arguments come before keyword arguments\n",
    "def hello_func(greeting, name='You'): \n",
    "    return '{}, {}.'.format(greeting, name)\n",
    "\n",
    "print(hello_func('Hi'))\n",
    "print(hello_func('Hi', 'Torie'))"
   ]
  },
  {
   "cell_type": "code",
   "execution_count": 33,
   "metadata": {},
   "outputs": [
    {
     "name": "stdout",
     "output_type": "stream",
     "text": [
      "('Maths', 'Art')\n",
      "{'name': 'John', 'age': 22}\n"
     ]
    }
   ],
   "source": [
    "# Positional (*args) and keyword (*kwargs) arguments\n",
    "# Allows arbitrary number of each type of argument\n",
    "def student_info(*args, **kwargs):\n",
    "    print(args)\n",
    "    print(kwargs)\n",
    "\n",
    "student_info('Maths', 'Art', name='John', age=22)"
   ]
  },
  {
   "cell_type": "code",
   "execution_count": 40,
   "metadata": {},
   "outputs": [
    {
     "name": "stdout",
     "output_type": "stream",
     "text": [
      "(['Maths', 'Art'], {'name': 'John', 'age': 22})\n",
      "{}\n",
      "\n",
      "('Maths', 'Art')\n",
      "{'name': 'John', 'age': 22}\n"
     ]
    }
   ],
   "source": [
    "# Unpacking args and kwargs using * and **\n",
    "# Passes values individually\n",
    "def student_info(*args, **kwargs):\n",
    "    print(args)\n",
    "    print(kwargs)\n",
    "    \n",
    "courses = ['Maths', 'Art']\n",
    "info = {'name': 'John', 'age': 22}\n",
    "student_info(courses, info) #not unpacked\n",
    "\n",
    "print()\n",
    "\n",
    "student_info(*courses, **info) #unpacked"
   ]
  },
  {
   "cell_type": "code",
   "execution_count": null,
   "metadata": {},
   "outputs": [],
   "source": []
  }
 ],
 "metadata": {
  "kernelspec": {
   "display_name": "Python 3",
   "language": "python",
   "name": "python3"
  },
  "language_info": {
   "codemirror_mode": {
    "name": "ipython",
    "version": 3
   },
   "file_extension": ".py",
   "mimetype": "text/x-python",
   "name": "python",
   "nbconvert_exporter": "python",
   "pygments_lexer": "ipython3",
   "version": "3.7.3"
  }
 },
 "nbformat": 4,
 "nbformat_minor": 2
}
