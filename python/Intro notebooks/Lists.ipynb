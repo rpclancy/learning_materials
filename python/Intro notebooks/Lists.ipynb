{
 "cells": [
  {
   "cell_type": "code",
   "execution_count": 15,
   "metadata": {},
   "outputs": [
    {
     "data": {
      "text/plain": [
       "'\\nDescribes how to use lists, tuples and sets in python\\n\\n\\n\\nCorey Schafer video\\nhttps://www.youtube.com/watch?v=W8KRzm-HUcc&list=PL-osiE80TeTt2d9bfVyTiXJA-UTHn6WwU&index=4\\n'"
      ]
     },
     "execution_count": 15,
     "metadata": {},
     "output_type": "execute_result"
    }
   ],
   "source": [
    "\"\"\"\n",
    "Describes how to use lists in python\n",
    "\n",
    "\n",
    "\n",
    "Corey Schafer video\n",
    "https://www.youtube.com/watch?v=W8KRzm-HUcc&list=PL-osiE80TeTt2d9bfVyTiXJA-UTHn6WwU&index=4\n",
    "\"\"\""
   ]
  },
  {
   "cell_type": "code",
   "execution_count": 56,
   "metadata": {},
   "outputs": [],
   "source": [
    "# Create an empty list\n",
    "empty_list = []\n",
    "# or \n",
    "empty_list = list()"
   ]
  },
  {
   "cell_type": "code",
   "execution_count": 16,
   "metadata": {},
   "outputs": [
    {
     "name": "stdout",
     "output_type": "stream",
     "text": [
      "['History', 'Maths', 'Physics', 'CompSci']\n"
     ]
    }
   ],
   "source": [
    "# Create a list using square brackets\n",
    "courses = ['History', 'Maths', 'Physics', 'CompSci']\n",
    "print(courses)"
   ]
  },
  {
   "cell_type": "code",
   "execution_count": 17,
   "metadata": {},
   "outputs": [
    {
     "name": "stdout",
     "output_type": "stream",
     "text": [
      "4\n"
     ]
    }
   ],
   "source": [
    "# See list length\n",
    "courses = ['History', 'Maths', 'Physics', 'CompSci']\n",
    "print(len(courses))"
   ]
  },
  {
   "cell_type": "code",
   "execution_count": 18,
   "metadata": {},
   "outputs": [
    {
     "name": "stdout",
     "output_type": "stream",
     "text": [
      "History\n",
      "Physics\n",
      "CompSci\n"
     ]
    }
   ],
   "source": [
    "# Access values at given index\n",
    "courses = ['History', 'Maths', 'Physics', 'CompSci']\n",
    "print(courses[0]) # first\n",
    "print(courses[2]) # 3rd\n",
    "print(courses[-1]) # last"
   ]
  },
  {
   "cell_type": "code",
   "execution_count": 19,
   "metadata": {},
   "outputs": [
    {
     "name": "stdout",
     "output_type": "stream",
     "text": [
      "['History', 'Maths']\n",
      "['History', 'Maths']\n",
      "['Physics', 'CompSci']\n"
     ]
    }
   ],
   "source": [
    "# Access ranges of values at indices\n",
    "courses = ['History', 'Maths', 'Physics', 'CompSci']\n",
    "print(courses[0:2]) # first index up to but not including 3rd\n",
    "print(courses[:2]) # first index up to but not including 3rd\n",
    "print(courses[2:]) # 3rd index to end"
   ]
  },
  {
   "cell_type": "code",
   "execution_count": 24,
   "metadata": {},
   "outputs": [
    {
     "name": "stdout",
     "output_type": "stream",
     "text": [
      "['History', 'Maths', 'Physics', 'CompSci', 'Art']\n",
      "['Art', 'History', 'Maths', 'Physics', 'CompSci']\n"
     ]
    }
   ],
   "source": [
    "# Add an item to the end of a list using append methods\n",
    "courses = ['History', 'Maths', 'Physics', 'CompSci']\n",
    "courses.append('Art')\n",
    "print(courses)\n",
    "\n",
    "# Insert an item in a list using insert\n",
    "courses = ['History', 'Maths', 'Physics', 'CompSci']\n",
    "courses.insert(0, 'Art') # Put art in 1st index\n",
    "print(courses)"
   ]
  },
  {
   "cell_type": "code",
   "execution_count": 25,
   "metadata": {},
   "outputs": [
    {
     "name": "stdout",
     "output_type": "stream",
     "text": [
      "['History', 'Maths', 'Physics', 'CompSci', ['Art', 'Education']]\n",
      "['History', 'Maths', 'Physics', 'CompSci', 'Art', 'Education']\n"
     ]
    }
   ],
   "source": [
    "# Insert a list into another list using extend instead of insert or append methods\n",
    "courses_1 = ['History', 'Maths', 'Physics', 'CompSci']\n",
    "courses_2 = ['Art', 'Education']\n",
    "courses_1.append(courses_2) # gives list within list\n",
    "print(courses_1)\n",
    "\n",
    "courses_1 = ['History', 'Maths', 'Physics', 'CompSci']\n",
    "courses_2 = ['Art', 'Education']\n",
    "courses_1.extend(courses_2) # combines lists\n",
    "print(courses_1)"
   ]
  },
  {
   "cell_type": "code",
   "execution_count": 29,
   "metadata": {},
   "outputs": [
    {
     "name": "stdout",
     "output_type": "stream",
     "text": [
      "['History', 'Physics', 'CompSci']\n",
      "['History', 'Maths', 'Physics']\n",
      "CompSci\n"
     ]
    }
   ],
   "source": [
    "# Removing values from list using remove and pop methods\n",
    "courses = ['History', 'Maths', 'Physics', 'CompSci']\n",
    "courses.remove('Maths')\n",
    "print(courses)\n",
    "\n",
    "courses = ['History', 'Maths', 'Physics', 'CompSci']\n",
    "popped = courses.pop() # can keep removed value\n",
    "print(courses)\n",
    "print(popped)"
   ]
  },
  {
   "cell_type": "code",
   "execution_count": 33,
   "metadata": {},
   "outputs": [
    {
     "name": "stdout",
     "output_type": "stream",
     "text": [
      "['CompSci', 'Physics', 'Maths', 'History']\n",
      "['CompSci', 'History', 'Maths', 'Physics']\n",
      "[1, 3, 4, 5]\n",
      "['Physics', 'Maths', 'History', 'CompSci']\n",
      "[5, 4, 3, 1]\n"
     ]
    }
   ],
   "source": [
    "# Sorting lists in place\n",
    "\n",
    "# Reverse list using reverse method\n",
    "courses = ['History', 'Maths', 'Physics', 'CompSci']\n",
    "courses.reverse()\n",
    "print(courses)\n",
    "\n",
    "# Sort list alphabetically using sort method\n",
    "courses = ['History', 'Maths', 'Physics', 'CompSci']\n",
    "courses.sort()\n",
    "print(courses)\n",
    "\n",
    "# Sort list in ascending or descending order using sort method\n",
    "nums = [1, 5, 4, 3]\n",
    "nums.sort()\n",
    "print(nums)\n",
    "nums = [1, 5, 4, 3]\n",
    "\n",
    "# Sort listts in reverse alphabetical or descending order\n",
    "courses = ['History', 'Maths', 'Physics', 'CompSci']\n",
    "courses.sort(reverse=True)\n",
    "print(courses)\n",
    "nums = [1, 5, 4, 3]\n",
    "nums.sort(reverse=True)\n",
    "print(nums)"
   ]
  },
  {
   "cell_type": "code",
   "execution_count": 35,
   "metadata": {},
   "outputs": [
    {
     "name": "stdout",
     "output_type": "stream",
     "text": [
      "['History', 'Maths', 'Physics', 'CompSci']\n",
      "['CompSci', 'History', 'Maths', 'Physics']\n"
     ]
    }
   ],
   "source": [
    "# Sorting lists without altering original list using sorted function\n",
    "courses = ['History', 'Maths', 'Physics', 'CompSci']\n",
    "sorted(courses)\n",
    "print(courses) # see no change from original\n",
    "\n",
    "sorted_courses = sorted(courses)\n",
    "print(sorted_courses) # new variable is sorted"
   ]
  },
  {
   "cell_type": "code",
   "execution_count": 37,
   "metadata": {},
   "outputs": [
    {
     "name": "stdout",
     "output_type": "stream",
     "text": [
      "1\n",
      "5\n",
      "13\n"
     ]
    }
   ],
   "source": [
    "# Getting min, max and sum of lists\n",
    "nums = [1, 5, 4, 3]\n",
    "print(min(nums))\n",
    "print(max(nums))\n",
    "print(sum(nums))"
   ]
  },
  {
   "cell_type": "code",
   "execution_count": 41,
   "metadata": {},
   "outputs": [
    {
     "name": "stdout",
     "output_type": "stream",
     "text": [
      "3\n"
     ]
    },
    {
     "ename": "ValueError",
     "evalue": "'Art' is not in list",
     "output_type": "error",
     "traceback": [
      "\u001b[0;31m---------------------------------------------------------------------------\u001b[0m",
      "\u001b[0;31mValueError\u001b[0m                                Traceback (most recent call last)",
      "\u001b[0;32m<ipython-input-41-ebc755f3a364>\u001b[0m in \u001b[0;36m<module>\u001b[0;34m\u001b[0m\n\u001b[1;32m      2\u001b[0m \u001b[0mcourses\u001b[0m \u001b[0;34m=\u001b[0m \u001b[0;34m[\u001b[0m\u001b[0;34m'History'\u001b[0m\u001b[0;34m,\u001b[0m \u001b[0;34m'Maths'\u001b[0m\u001b[0;34m,\u001b[0m \u001b[0;34m'Physics'\u001b[0m\u001b[0;34m,\u001b[0m \u001b[0;34m'CompSci'\u001b[0m\u001b[0;34m]\u001b[0m\u001b[0;34m\u001b[0m\u001b[0;34m\u001b[0m\u001b[0m\n\u001b[1;32m      3\u001b[0m \u001b[0mprint\u001b[0m\u001b[0;34m(\u001b[0m\u001b[0mcourses\u001b[0m\u001b[0;34m.\u001b[0m\u001b[0mindex\u001b[0m\u001b[0;34m(\u001b[0m\u001b[0;34m'CompSci'\u001b[0m\u001b[0;34m)\u001b[0m\u001b[0;34m)\u001b[0m\u001b[0;34m\u001b[0m\u001b[0;34m\u001b[0m\u001b[0m\n\u001b[0;32m----> 4\u001b[0;31m \u001b[0mprint\u001b[0m\u001b[0;34m(\u001b[0m\u001b[0mcourses\u001b[0m\u001b[0;34m.\u001b[0m\u001b[0mindex\u001b[0m\u001b[0;34m(\u001b[0m\u001b[0;34m'Art'\u001b[0m\u001b[0;34m)\u001b[0m\u001b[0;34m)\u001b[0m\u001b[0;34m\u001b[0m\u001b[0;34m\u001b[0m\u001b[0m\n\u001b[0m",
      "\u001b[0;31mValueError\u001b[0m: 'Art' is not in list"
     ]
    }
   ],
   "source": [
    "# Getting index of a value in a list using index method\n",
    "courses = ['History', 'Maths', 'Physics', 'CompSci']\n",
    "print(courses.index('CompSci'))\n",
    "print(courses.index('Art'))"
   ]
  },
  {
   "cell_type": "code",
   "execution_count": 43,
   "metadata": {},
   "outputs": [
    {
     "name": "stdout",
     "output_type": "stream",
     "text": [
      "True\n",
      "False\n"
     ]
    }
   ],
   "source": [
    "# Find if a value is in a list using in\n",
    "courses = ['History', 'Maths', 'Physics', 'CompSci']\n",
    "print('Maths' in courses)\n",
    "print('Art' in courses)"
   ]
  },
  {
   "cell_type": "code",
   "execution_count": 47,
   "metadata": {},
   "outputs": [
    {
     "name": "stdout",
     "output_type": "stream",
     "text": [
      "History\n",
      "Maths\n",
      "Physics\n",
      "CompSci\n",
      "0 History\n",
      "1 Maths\n",
      "2 Physics\n",
      "3 CompSci\n",
      "2 History\n",
      "3 Maths\n",
      "4 Physics\n",
      "5 CompSci\n"
     ]
    }
   ],
   "source": [
    "# Looping through a list with for loop\n",
    "courses = ['History', 'Maths', 'Physics', 'CompSci']\n",
    "\n",
    "for course in courses:\n",
    "    print(course)\n",
    "    \n",
    "# Use enumerate to get index\n",
    "for index, course in enumerate(courses):\n",
    "    print(index, course)  \n",
    "    \n",
    "# Start loop at a given index\n",
    "for index, course in enumerate(courses, start=2):\n",
    "    print(index, course)      "
   ]
  },
  {
   "cell_type": "code",
   "execution_count": 53,
   "metadata": {},
   "outputs": [
    {
     "name": "stdout",
     "output_type": "stream",
     "text": [
      "History, Maths, Physics, CompSci\n",
      "History - Maths - Physics - CompSci\n"
     ]
    }
   ],
   "source": [
    "# Joining values in a list using join method\n",
    "courses = ['History', 'Maths', 'Physics', 'CompSci']\n",
    "course_str = ', '.join(courses) # can set separator within ''\n",
    "print(course_str)\n",
    "course_str = ' - '.join(courses) # can set separator within ''\n",
    "print(course_str)"
   ]
  },
  {
   "cell_type": "code",
   "execution_count": 54,
   "metadata": {},
   "outputs": [
    {
     "name": "stdout",
     "output_type": "stream",
     "text": [
      "['History', 'Maths', 'Physics', 'CompSci']\n"
     ]
    }
   ],
   "source": [
    "# Splitting string into a list using split method\n",
    "course_str = 'History - Maths - Physics - CompSci'\n",
    "courses = course_str.split(' - ') # can set separator within ''\n",
    "print(courses)"
   ]
  },
  {
   "cell_type": "code",
   "execution_count": null,
   "metadata": {},
   "outputs": [],
   "source": []
  }
 ],
 "metadata": {
  "kernelspec": {
   "display_name": "Python 3",
   "language": "python",
   "name": "python3"
  },
  "language_info": {
   "codemirror_mode": {
    "name": "ipython",
    "version": 3
   },
   "file_extension": ".py",
   "mimetype": "text/x-python",
   "name": "python",
   "nbconvert_exporter": "python",
   "pygments_lexer": "ipython3",
   "version": "3.7.3"
  }
 },
 "nbformat": 4,
 "nbformat_minor": 2
}
