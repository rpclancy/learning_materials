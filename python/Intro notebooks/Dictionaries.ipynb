{
 "cells": [
  {
   "cell_type": "code",
   "execution_count": null,
   "metadata": {},
   "outputs": [],
   "source": [
    "\"\"\"\n",
    "Describes how to use dictionaries in python\n",
    "\n",
    "\n",
    "\n",
    "Corey Schafer video\n",
    "https://www.youtube.com/watch?v=daefaLgNkw0&list=PL-osiE80TeTt2d9bfVyTiXJA-UTHn6WwU&index=5\n",
    "\"\"\""
   ]
  },
  {
   "cell_type": "markdown",
   "metadata": {},
   "source": [
    "# Key-Value pairs\n",
    "\n",
    "Key: Unique identifier\n",
    "\n",
    "Value: Associated data "
   ]
  },
  {
   "cell_type": "code",
   "execution_count": 1,
   "metadata": {},
   "outputs": [
    {
     "name": "stdout",
     "output_type": "stream",
     "text": [
      "{'name': 'John', 'age': 25, 'courses': ['Maths', 'CompSci']}\n"
     ]
    }
   ],
   "source": [
    "# Defining a dictionary (can use many data types)\n",
    "student = {'name': 'John', 'age': 25, 'courses':['Maths', 'CompSci']}\n",
    "print(student)"
   ]
  },
  {
   "cell_type": "code",
   "execution_count": 8,
   "metadata": {},
   "outputs": [
    {
     "name": "stdout",
     "output_type": "stream",
     "text": [
      "John\n",
      "25\n",
      "John\n",
      "None\n",
      "Not Found\n"
     ]
    }
   ],
   "source": [
    "# Select values from dictionary\n",
    "student = {'name': 'John', 'age': 25, 'courses':['Maths', 'CompSci']}\n",
    "print(student['name'])\n",
    "print(student['age'])\n",
    "\n",
    "# Can use get method\n",
    "print(student.get('name'))\n",
    "print(student.get('phone'))\n",
    "print(student.get('phone', 'Not Found')) # can show message for when key value not found"
   ]
  },
  {
   "cell_type": "code",
   "execution_count": 9,
   "metadata": {},
   "outputs": [
    {
     "name": "stdout",
     "output_type": "stream",
     "text": [
      "None\n",
      "555-5555\n"
     ]
    },
    {
     "data": {
      "text/plain": [
       "'John'"
      ]
     },
     "execution_count": 9,
     "metadata": {},
     "output_type": "execute_result"
    }
   ],
   "source": [
    "# Adding values to dictionary\n",
    "student = {'name': 'John', 'age': 25, 'courses':['Maths', 'CompSci']}\n",
    "print(student.get('phone'))\n",
    "\n",
    "student['phone'] = '555-5555'\n",
    "print(student.get('phone'))"
   ]
  },
  {
   "cell_type": "code",
   "execution_count": 10,
   "metadata": {},
   "outputs": [
    {
     "name": "stdout",
     "output_type": "stream",
     "text": [
      "{'name': 'John', 'age': 25, 'courses': ['Maths', 'CompSci']}\n",
      "{'name': 'Jane', 'age': 25, 'courses': ['Maths', 'CompSci']}\n"
     ]
    }
   ],
   "source": [
    "# Updating single values in dictionary\n",
    "student = {'name': 'John', 'age': 25, 'courses':['Maths', 'CompSci']}\n",
    "print(student)\n",
    "\n",
    "student['name'] = 'Jane'\n",
    "print(student)"
   ]
  },
  {
   "cell_type": "code",
   "execution_count": 14,
   "metadata": {},
   "outputs": [
    {
     "name": "stdout",
     "output_type": "stream",
     "text": [
      "{'name': 'Jane', 'age': 26, 'courses': ['Maths', 'CompSci'], 'phone': '555-5555'}\n"
     ]
    }
   ],
   "source": [
    "# Updating multiple values in dictionary using update method\n",
    "student = {'name': 'John', 'age': 25, 'courses':['Maths', 'CompSci']}\n",
    "student.update({'name': 'Jane', 'age': 26, 'phone': '555-5555'}) #takes dictionary as input\n",
    "print(student)"
   ]
  },
  {
   "cell_type": "code",
   "execution_count": 16,
   "metadata": {},
   "outputs": [
    {
     "name": "stdout",
     "output_type": "stream",
     "text": [
      "{'name': 'John', 'courses': ['Maths', 'CompSci']}\n",
      "{'name': 'John', 'courses': ['Maths', 'CompSci']}\n",
      "25\n"
     ]
    }
   ],
   "source": [
    "# Deleting values using del\n",
    "student = {'name': 'John', 'age': 25, 'courses':['Maths', 'CompSci']}\n",
    "del student['age']\n",
    "print(student)\n",
    "\n",
    "# Deleting values using pop method\n",
    "student = {'name': 'John', 'age': 25, 'courses':['Maths', 'CompSci']}\n",
    "age = student.pop('age')\n",
    "print(student)\n",
    "print(age)"
   ]
  },
  {
   "cell_type": "code",
   "execution_count": 20,
   "metadata": {},
   "outputs": [
    {
     "name": "stdout",
     "output_type": "stream",
     "text": [
      "3\n",
      "dict_keys(['name', 'age', 'courses'])\n",
      "dict_values(['John', 25, ['Maths', 'CompSci']])\n",
      "dict_items([('name', 'John'), ('age', 25), ('courses', ['Maths', 'CompSci'])])\n"
     ]
    }
   ],
   "source": [
    "# Get dictionary length (len), keys (keys), values (values), items (items)\n",
    "student = {'name': 'John', 'age': 25, 'courses':['Maths', 'CompSci']}\n",
    "print(len(student))\n",
    "print(student.keys())\n",
    "print(student.values())\n",
    "print(student.items())"
   ]
  },
  {
   "cell_type": "code",
   "execution_count": 26,
   "metadata": {},
   "outputs": [
    {
     "name": "stdout",
     "output_type": "stream",
     "text": [
      "name John\n",
      "age 25\n",
      "courses ['Maths', 'CompSci']\n"
     ]
    }
   ],
   "source": [
    "# Looping through keys and values using items\n",
    "for key, value in student.items():\n",
    "    print(key, value)"
   ]
  },
  {
   "cell_type": "code",
   "execution_count": null,
   "metadata": {},
   "outputs": [],
   "source": []
  }
 ],
 "metadata": {
  "kernelspec": {
   "display_name": "Python 3",
   "language": "python",
   "name": "python3"
  },
  "language_info": {
   "codemirror_mode": {
    "name": "ipython",
    "version": 3
   },
   "file_extension": ".py",
   "mimetype": "text/x-python",
   "name": "python",
   "nbconvert_exporter": "python",
   "pygments_lexer": "ipython3",
   "version": "3.7.3"
  }
 },
 "nbformat": 4,
 "nbformat_minor": 2
}
