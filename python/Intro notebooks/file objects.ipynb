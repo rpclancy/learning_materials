{
 "cells": [
  {
   "cell_type": "code",
   "execution_count": 1,
   "metadata": {},
   "outputs": [
    {
     "data": {
      "text/plain": [
       "'\\nDescribes how to interact with file objects in python\\n\\n\\n\\nCorey Schafer video\\nhttps://www.youtube.com/watch?v=Uh2ebFW8OYM&list=PL-osiE80TeTskrapNbzXhwoFUiLCjGgY7&index=11\\n'"
      ]
     },
     "execution_count": 1,
     "metadata": {},
     "output_type": "execute_result"
    }
   ],
   "source": [
    "\"\"\"\n",
    "Describes how to interact with file objects in python\n",
    "\n",
    "\n",
    "\n",
    "Corey Schafer video\n",
    "https://www.youtube.com/watch?v=Uh2ebFW8OYM&list=PL-osiE80TeTskrapNbzXhwoFUiLCjGgY7&index=11\n",
    "\"\"\""
   ]
  },
  {
   "cell_type": "code",
   "execution_count": 36,
   "metadata": {},
   "outputs": [
    {
     "name": "stdout",
     "output_type": "stream",
     "text": [
      "\r\n"
     ]
    }
   ],
   "source": [
    "# Test file input\n",
    "\n",
    "#1) This is a test file\n",
    "#2) With multiple lines of data...\n",
    "#3) Third line\n",
    "#4) Fourth line\n",
    "#5) Fifth line\n",
    "#6) Sixth line\n",
    "#7) Seventh line\n",
    "#8) Eighth line\n",
    "#9) Ninth line\n",
    "#10) Tenth line\n",
    "\n",
    "# Test image download\n",
    "!curl 'https://www.w3.org/MarkUp/Test/xhtml-print/20050519/tests/jpeg444.jpg' >test.jpg"
   ]
  },
  {
   "cell_type": "code",
   "execution_count": 3,
   "metadata": {},
   "outputs": [
    {
     "name": "stdout",
     "output_type": "stream",
     "text": [
      "test.txt\n",
      "r\n"
     ]
    }
   ],
   "source": [
    "# Open file for reading without context manager\n",
    "# Requires opened files to be closed after\n",
    "f = open('test.txt', 'r') #defaults to open file for reading if no 2nd arguments\n",
    "\n",
    "# Get file name\n",
    "print(f.name)\n",
    "\n",
    "# Show mode opened in\n",
    "print(f.mode)\n",
    "\n",
    "# Close file\n",
    "f.close()"
   ]
  },
  {
   "cell_type": "code",
   "execution_count": 4,
   "metadata": {},
   "outputs": [
    {
     "name": "stdout",
     "output_type": "stream",
     "text": [
      "test.txt\n"
     ]
    }
   ],
   "source": [
    "# Open file for reading with context manager 'with'\n",
    "# After exiting code block or upon exceptions file is automatically closed\n",
    "with open('test.txt', 'r') as f:\n",
    "    # work with files in this code block\n",
    "    pass\n",
    "\n",
    "# Can still access some basic info outside of code block\n",
    "print(f.name)"
   ]
  },
  {
   "cell_type": "code",
   "execution_count": 6,
   "metadata": {},
   "outputs": [
    {
     "name": "stdout",
     "output_type": "stream",
     "text": [
      "1) This is a test file\n"
     ]
    }
   ],
   "source": [
    "# Read data from a file using .read, .readlines or .readline\n",
    "with open('test.txt', 'r') as f:\n",
    "    f_contents = f.read()\n",
    "    f_contents = f.readlines() #list of all lines in file\n",
    "    f_contents = f.readline() #reads 1st line of file\n",
    "    f_contents = f.readline() #reads next line of file\n",
    "    print(f_contents, end='') #prevents blank line being added to the end when using readline\n",
    "    \n",
    "# N.B readline continues on from read or readlines so be careful when combining"
   ]
  },
  {
   "cell_type": "code",
   "execution_count": 19,
   "metadata": {},
   "outputs": [
    {
     "name": "stdout",
     "output_type": "stream",
     "text": [
      "1) This is a test file\n",
      "2) With multiple lines of data...\n",
      "3) Third line\n",
      "4) Fourth line\n",
      "5) Fifth line\n",
      "6) Sixth line\n",
      "7) Seventh line\n",
      "8) Eighth line\n",
      "9) Ninth line\n",
      "10) Tenth line\n",
      "\n",
      "1) This is a test file\n",
      "2) With multiple lines of data...\n",
      "3) Third line\n",
      "4) Fourth line\n",
      "5) Fifth line\n",
      "6) Sixth line\n",
      "7) Seventh line\n",
      "8) Eighth line\n",
      "9) Ninth line\n",
      "10) Tenth line"
     ]
    }
   ],
   "source": [
    "# Read data from big file without loading it all simultaneously\n",
    "with open('test.txt', 'r') as f:\n",
    "    for line in f:\n",
    "        print(line, end='')\n",
    "print()\n",
    "print()\n",
    "\n",
    "        \n",
    "# or can use .read(num_chars)\n",
    "with open('test.txt', 'r') as f:\n",
    "    size_to_read = 10\n",
    "    f_contents = f.read(size_to_read) #reads first 10 characters\n",
    "    \n",
    "    while len(f_contents)>0: #empty string returned at end of file\n",
    "        print(f_contents, end='')\n",
    "        f_contents = f.read(size_to_read) #reads next 10 characters"
   ]
  },
  {
   "cell_type": "code",
   "execution_count": 28,
   "metadata": {},
   "outputs": [
    {
     "name": "stdout",
     "output_type": "stream",
     "text": [
      "0\n",
      "10\n",
      "50\n",
      "60\n"
     ]
    }
   ],
   "source": [
    "# Get file position using f.tell()\n",
    "# Change file position using f.seek()\n",
    "with open('test.txt', 'r') as f:\n",
    "    size_to_read = 10\n",
    "    print(f.tell())\n",
    "\n",
    "    f_contents = f.read(size_to_read) #reads first 10 characters\n",
    "    print(f.tell())\n",
    "    \n",
    "    f.seek(50) #Move to position 50 in file\n",
    "    print(f.tell())\n",
    "    \n",
    "    f_contents = f.read(size_to_read) #reads next 10 characters\n",
    "    print(f.tell())"
   ]
  },
  {
   "cell_type": "code",
   "execution_count": 40,
   "metadata": {},
   "outputs": [],
   "source": [
    "# Writing to a file\n",
    "with open(\"test.jpg\", \"rb\") as rf: #b is needed to read images in binary mode\n",
    "    with open(\"test_copy.jpg\", \"wb\") as wf: #open a writeable copy\n",
    "        for line in rf:\n",
    "            wf.write(line)"
   ]
  },
  {
   "cell_type": "code",
   "execution_count": 41,
   "metadata": {},
   "outputs": [],
   "source": [
    "# Writing to a file with specific chunk size\n",
    "with open(\"test.jpg\", \"rb\") as rf:\n",
    "    with open(\"test_copy.jpg\", \"wb\") as wf:\n",
    "        chunk_size = 4096\n",
    "        rf_chunk = rf.read(chunk_size)\n",
    "        while len(rf_chunk) > 0:\n",
    "            wf.write(rf_chunk)\n",
    "            rf_chunk = rf.read(chunk_size)"
   ]
  },
  {
   "cell_type": "code",
   "execution_count": 50,
   "metadata": {},
   "outputs": [],
   "source": [
    "# Tidying up \n",
    "import os\n",
    "if os.path.exists('test.jpg'):\n",
    "    os.remove('test.jpg')\n",
    "if os.path.exists('test_copy.jpg'):\n",
    "    os.remove('test_copy.jpg')"
   ]
  },
  {
   "cell_type": "code",
   "execution_count": null,
   "metadata": {},
   "outputs": [],
   "source": []
  }
 ],
 "metadata": {
  "kernelspec": {
   "display_name": "Python 3",
   "language": "python",
   "name": "python3"
  },
  "language_info": {
   "codemirror_mode": {
    "name": "ipython",
    "version": 3
   },
   "file_extension": ".py",
   "mimetype": "text/x-python",
   "name": "python",
   "nbconvert_exporter": "python",
   "pygments_lexer": "ipython3",
   "version": "3.7.3"
  }
 },
 "nbformat": 4,
 "nbformat_minor": 2
}
