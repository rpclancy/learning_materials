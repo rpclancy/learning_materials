{
 "cells": [
  {
   "cell_type": "code",
   "execution_count": 15,
   "metadata": {},
   "outputs": [
    {
     "data": {
      "text/plain": [
       "'\\nDescribes how to use lists, tuples and sets in python\\n\\n\\n\\nCorey Schafer video\\nhttps://www.youtube.com/watch?v=W8KRzm-HUcc&list=PL-osiE80TeTt2d9bfVyTiXJA-UTHn6WwU&index=4\\n'"
      ]
     },
     "execution_count": 15,
     "metadata": {},
     "output_type": "execute_result"
    }
   ],
   "source": [
    "\"\"\"\n",
    "Describes how to use sets in python\n",
    "\n",
    "\n",
    "\n",
    "Corey Schafer video\n",
    "https://www.youtube.com/watch?v=W8KRzm-HUcc&list=PL-osiE80TeTt2d9bfVyTiXJA-UTHn6WwU&index=4\n",
    "\"\"\""
   ]
  },
  {
   "cell_type": "markdown",
   "metadata": {},
   "source": [
    "# Sets are like lists, but unordered, have no duplicates and are easier to compare"
   ]
  },
  {
   "cell_type": "code",
   "execution_count": 9,
   "metadata": {},
   "outputs": [
    {
     "name": "stdout",
     "output_type": "stream",
     "text": [
      "{'Maths', 'Physics', 'CompSci', 'History'}\n"
     ]
    }
   ],
   "source": [
    "# Sets are unordered\n",
    "courses_set = {'History', 'Maths', 'Physics', 'CompSci'} # Note funky brackets\n",
    "print(courses_set) # See how order is different to entered"
   ]
  },
  {
   "cell_type": "code",
   "execution_count": 10,
   "metadata": {},
   "outputs": [
    {
     "name": "stdout",
     "output_type": "stream",
     "text": [
      "{'Maths', 'Physics', 'CompSci', 'History'}\n"
     ]
    }
   ],
   "source": [
    "# Sets have no duplicates\n",
    "courses_set = {'History', 'Maths', 'Physics', 'CompSci', 'History'}\n",
    "print(courses_set) # See how History is only included once"
   ]
  },
  {
   "cell_type": "code",
   "execution_count": 13,
   "metadata": {},
   "outputs": [
    {
     "name": "stdout",
     "output_type": "stream",
     "text": [
      "True\n"
     ]
    }
   ],
   "source": [
    "# Sets perfom membership tests very efficiently\n",
    "print('Maths' in courses_set)"
   ]
  },
  {
   "cell_type": "code",
   "execution_count": 17,
   "metadata": {},
   "outputs": [
    {
     "name": "stdout",
     "output_type": "stream",
     "text": [
      "{'Maths', 'History'}\n",
      "{'CompSci', 'Physics'}\n",
      "{'Maths', 'CompSci', 'Physics', 'Art', 'Design', 'History'}\n"
     ]
    }
   ],
   "source": [
    "# Comparing sets using intersection, difference and union methods\n",
    "courses_set_1 = {'History', 'Maths', 'Physics', 'CompSci'}\n",
    "courses_set_2 = {'History', 'Maths', 'Art', 'Design'}\n",
    "\n",
    "print(courses_set_1.intersection(courses_set_2)) # shared values\n",
    "print(courses_set_1.difference(courses_set_2)) # different values\n",
    "print(courses_set_1.union(courses_set_2)) # combined values"
   ]
  },
  {
   "cell_type": "code",
   "execution_count": 20,
   "metadata": {},
   "outputs": [
    {
     "name": "stdout",
     "output_type": "stream",
     "text": [
      "<class 'dict'>\n",
      "<class 'set'>\n"
     ]
    }
   ],
   "source": [
    "# Empty sets must be defined in a certain way\n",
    "empty_set = {} # wrong, gives a dictionary\n",
    "print(type(empty_set))\n",
    "\n",
    "empty_set = set() # correct\n",
    "print(type(empty_set))"
   ]
  },
  {
   "cell_type": "code",
   "execution_count": null,
   "metadata": {},
   "outputs": [],
   "source": []
  }
 ],
 "metadata": {
  "kernelspec": {
   "display_name": "Python 3",
   "language": "python",
   "name": "python3"
  },
  "language_info": {
   "codemirror_mode": {
    "name": "ipython",
    "version": 3
   },
   "file_extension": ".py",
   "mimetype": "text/x-python",
   "name": "python",
   "nbconvert_exporter": "python",
   "pygments_lexer": "ipython3",
   "version": "3.7.3"
  }
 },
 "nbformat": 4,
 "nbformat_minor": 2
}
